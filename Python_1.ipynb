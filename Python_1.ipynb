{
  "nbformat": 4,
  "nbformat_minor": 5,
  "metadata": {
    "kernelspec": {
      "display_name": "Python 3",
      "language": "python",
      "name": "python3"
    },
    "language_info": {
      "codemirror_mode": {
        "name": "ipython",
        "version": 3
      },
      "file_extension": ".py",
      "mimetype": "text/x-python",
      "name": "python",
      "nbconvert_exporter": "python",
      "pygments_lexer": "ipython3",
      "version": "3.7.0"
    },
    "colab": {
      "provenance": []
    }
  },
  "cells": [
    {
      "cell_type": "markdown",
      "metadata": {
        "id": "87919d68"
      },
      "source": [
        "### Python 1 : Who is in the third place?"
      ],
      "id": "87919d68"
    },
    {
      "cell_type": "markdown",
      "metadata": {
        "id": "c061c30a"
      },
      "source": [
        "### Task"
      ],
      "id": "c061c30a"
    },
    {
      "cell_type": "markdown",
      "metadata": {
        "id": "66fcf833"
      },
      "source": [
        "Create a function whose name is ```third_place``` that does the following:\n",
        "\n",
        "Given a list of test score and a list of participants name. The desired output would be the name of the participant who gets the 3rd best score. The rule of determining the order of the best score is as follows:\n",
        "- Higher score is better\n",
        "- In case of multiple participants having the same test score, they can occupy the same ranking value. For example, if 2 participants scored 100, then both of them occupy the first place.\n",
        "\n",
        "The first input of the function is the name list, and the second input to the function is the score list."
      ],
      "id": "66fcf833"
    },
    {
      "cell_type": "markdown",
      "metadata": {
        "id": "aee24374"
      },
      "source": [
        "### Example 1:\n",
        "\n",
        "**Input**:\n",
        "- names = [Andi, Budi, Charlie, Dilan, Echa]\n",
        "- score = [80, 90, 95, 100, 85]\n",
        "\n",
        "This means, Andi gets 80, Budi gets 90, Charlie gets 95, Dilan gets 100, and Echa gets 85. The first best score is 100, and Dilan gets it. The second best score is 95, and Charlie gets it. The third best score is 90, and Budi gets it. So, our output should be Budi.\n",
        "\n",
        "**Output**: 'The third winner: Budi'.\n",
        "\n",
        "When we run ```third_place(names, score)```, the output will be 'The third winner: Budi'."
      ],
      "id": "aee24374"
    },
    {
      "cell_type": "code",
      "source": [
        "def third_place(names, scores):\n",
        "  combined = list(zip(names, scores))\n",
        "  combined.sort(key=lambda x: x[1], reverse=True)\n",
        "  if len(combined) < 3:\n",
        "      return \"There are less than 3 participants.\"\n",
        "  try:\n",
        "      third_best_score = combined[2][1]\n",
        "  except IndexError:\n",
        "      if len(combined) == 2:\n",
        "          return f\"The second winner: {combined[0][0]} and {combined[1][0]}\"\n",
        "      else:\n",
        "          return \"There are less than 3 participants.\"\n",
        "  third_place_indexes = [i for i, (_, score) in enumerate(combined) if score == third_best_score]\n",
        "  if len(third_place_indexes) > 1:\n",
        "    third_place_names = \", \".join([combined[i][0] for i in third_place_indexes])\n",
        "    return f\"The third winner: {third_place_names}\"\n",
        "  else:\n",
        "    return f\"The third winner: {combined[2][0]}\"\n",
        "\n",
        "names = [\"Andi\", \"Budi\", \"Charlie\", \"Dilan\", \"Echa\"]\n",
        "scores = [80, 90, 95, 100, 85]\n",
        "\n",
        "result = third_place(names, scores)\n",
        "print(result)\n"
      ],
      "metadata": {
        "colab": {
          "base_uri": "https://localhost:8080/"
        },
        "id": "G7V2Rdhap-ow",
        "outputId": "3164026d-7fa7-4bad-fb70-3d2734e46df2"
      },
      "id": "G7V2Rdhap-ow",
      "execution_count": 9,
      "outputs": [
        {
          "output_type": "stream",
          "name": "stdout",
          "text": [
            "The third winner: Budi\n"
          ]
        }
      ]
    },
    {
      "cell_type": "markdown",
      "metadata": {
        "id": "e85af386"
      },
      "source": [
        "### Example 2:\n",
        "\n",
        "**Input**:\n",
        "- names = [Andi, Budi, Charlie, Dilan, Echa]\n",
        "- score = [80, 80, 80, 100, 90]\n",
        "\n",
        "This means, Andi, Budi, and Charlie gets 80, Dilan gets 100, and Echa gets 90. The third best score is 80, and our output should list ALL of the participants who get 80.\n",
        "\n",
        "**Output**: 'The third winner: Andi, Budi, Charlie'.\n",
        "\n",
        "When we run ```third_place(names, score)```, the output will be 'The third winner: Andi, Budi, Charlie'."
      ],
      "id": "e85af386"
    },
    {
      "cell_type": "code",
      "source": [
        "def third_place(names, scores):\n",
        "  combined = list(zip(names, scores))\n",
        "  combined.sort(key=lambda x: x[1], reverse=True)\n",
        "  if len(combined) < 3:\n",
        "      return \"There are less than 3 participants.\"\n",
        "  try:\n",
        "      third_best_score = combined[2][1]\n",
        "  except IndexError:\n",
        "      if len(combined) == 2:\n",
        "          return f\"The second winner: {combined[0][0]} and {combined[1][0]}\"\n",
        "      else:\n",
        "          return \"There are less than 3 participants.\"\n",
        "  third_place_indexes = [i for i, (_, score) in enumerate(combined) if score == third_best_score]\n",
        "  if len(third_place_indexes) > 1:\n",
        "    third_place_names = \", \".join([combined[i][0] for i in third_place_indexes])\n",
        "    return f\"The third winner: {third_place_names}\"\n",
        "  else:\n",
        "    return f\"The third winner: {combined[2][0]}\"\n",
        "\n",
        "names = [\"Andi\", \"Budi\", \"Charlie\", \"Dilan\", \"Echa\"]\n",
        "scores = [80, 80, 80, 100, 90]\n",
        "\n",
        "result = third_place(names, scores)\n",
        "print(result)\n"
      ],
      "metadata": {
        "colab": {
          "base_uri": "https://localhost:8080/"
        },
        "id": "RtJ8wZS8qhWl",
        "outputId": "e7ddf33c-412f-4ca6-8185-0574b8e55641"
      },
      "id": "RtJ8wZS8qhWl",
      "execution_count": 8,
      "outputs": [
        {
          "output_type": "stream",
          "name": "stdout",
          "text": [
            "The third winner: Andi, Budi, Charlie\n"
          ]
        }
      ]
    },
    {
      "cell_type": "markdown",
      "metadata": {
        "id": "bbeb3f41"
      },
      "source": [
        "### Example 3:\n",
        "\n",
        "**Input**:\n",
        "- names = [Andi, Budi, Charlie, Dilan, Echa, Fanya]\n",
        "- score = [80, 90, 90, 100, 100, 80]\n",
        "\n",
        "The first best score (first winner) is 100 - Dilan and Echa shared this position. The second best score (second winner) is 90 - Budi and Charlie shared this position. The third best score (third winner) is 80, and it is shared by Andi and Fanya. So, our output should be Andi and Fanya.\n",
        "\n",
        "**Output**: 'The third winner: Andi, Fanya'."
      ],
      "id": "bbeb3f41"
    },
    {
      "cell_type": "code",
      "source": [
        "def third_place(names, scores):\n",
        "  combined = list(zip(names, scores))\n",
        "  combined.sort(key=lambda x: x[1], reverse=True)\n",
        "  if len(combined) < 3:\n",
        "      return \"There are less than 3 participants.\"\n",
        "  current_score = None\n",
        "  participant_count = 0\n",
        "  for i, (name, score) in enumerate(combined):\n",
        "    if current_score is None or score != current_score:\n",
        "      current_score = score\n",
        "      participant_count = 0\n",
        "    if participant_count == 2 and i >= 2:\n",
        "      break\n",
        "    participant_count += 1\n",
        "\n",
        "  third_best_score = current_score\n",
        "\n",
        "\n",
        "  third_place_indexes = [i for i, (_, score) in enumerate(combined) if score == third_best_score]\n",
        "  if len(third_place_indexes) > 1:\n",
        "    third_place_names = \", \".join([combined[i][0] for i in third_place_indexes])\n",
        "    return f\"The third winner: {third_place_names}\"\n",
        "  else:\n",
        "    return f\"The third winner: {combined[2][0]}\"\n",
        "names = [\"Andi\", \"Budi\", \"Charlie\", \"Dilan\", \"Echa\", \"Fanya\"]\n",
        "scores = [80, 90, 90, 100, 100, 80]\n",
        "\n",
        "result = third_place(names, scores)\n",
        "print(result)\n"
      ],
      "metadata": {
        "colab": {
          "base_uri": "https://localhost:8080/"
        },
        "id": "Ut77CNyWr1JK",
        "outputId": "873bcbc5-8145-4a6c-9884-7d554655d1f1"
      },
      "id": "Ut77CNyWr1JK",
      "execution_count": 10,
      "outputs": [
        {
          "output_type": "stream",
          "name": "stdout",
          "text": [
            "The third winner: Andi, Fanya\n"
          ]
        }
      ]
    },
    {
      "cell_type": "markdown",
      "metadata": {
        "id": "8306d027"
      },
      "source": [
        "### Space for Work"
      ],
      "id": "8306d027"
    }
  ]
}
